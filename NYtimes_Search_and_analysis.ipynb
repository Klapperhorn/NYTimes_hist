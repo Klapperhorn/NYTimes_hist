{
 "cells": [
  {
   "cell_type": "markdown",
   "id": "3392c550",
   "metadata": {},
   "source": [
    "# NYT Timerow Analysis"
   ]
  },
  {
   "cell_type": "code",
   "execution_count": 1,
   "id": "fd5265a9",
   "metadata": {},
   "outputs": [
    {
     "data": {
      "text/plain": [
       "'display colwidth set to: 20'"
      ]
     },
     "execution_count": 1,
     "metadata": {},
     "output_type": "execute_result"
    }
   ],
   "source": [
    "import pandas as pd\n",
    "import matplotlib.pyplot as plt\n",
    "from MyLib import NYT_timerow as myL\n",
    "from pynytimes import NYTAPI\n",
    "%load_ext autoreload\n",
    "%autoreload 2\n",
    "\n",
    "FileName=\"Soc_Exp\"\n",
    "\n",
    "API_key=myL.NYT_api_key()\n",
    "nyt = NYTAPI(API_key, parse_dates=True)\n",
    "myL.D(20)"
   ]
  },
  {
   "cell_type": "code",
   "execution_count": null,
   "id": "d2d8716e",
   "metadata": {},
   "outputs": [],
   "source": [
    "#Run a single query:\n",
    "query=\"'cybertruck'\"\n",
    "result=myL.runSerach(query,results=900,years=(2021,2023))"
   ]
  },
  {
   "cell_type": "code",
   "execution_count": null,
   "id": "f3ce6f1f",
   "metadata": {},
   "outputs": [],
   "source": [
    "# !!! This cell runs the search (takes about 20 minutes) !!! \n",
    "\n",
    "SL=['3d printing', 'selfdrivingcar', 'ChatGPT']\n",
    "SL=['\"'+i.strip()+'\"' for i in SL]\n",
    "SL\n",
    "\n",
    "#for query in SL:\n",
    "    myL.runSerach(query,results=900,years=(1990,2023))\n",
    "\n",
    "    \n",
    "# Loard recent search list\n",
    "\n",
    "comp=myL.load_recent_search_list(SL,sample=\"M\")"
   ]
  },
  {
   "cell_type": "markdown",
   "id": "613cb850",
   "metadata": {},
   "source": [
    "# Load & Analzye Datasets"
   ]
  },
  {
   "cell_type": "code",
   "execution_count": null,
   "id": "d61de99d",
   "metadata": {},
   "outputs": [],
   "source": [
    "# find available datasets\n",
    "import glob\n",
    "\n",
    "DataName=\"\"\n",
    "dataList=glob.glob(f\"*_NYtimes_{DataName}*.json\")\n",
    "print(\"Number of Json Files: \", len(dataList))\n",
    "dataList"
   ]
  },
  {
   "cell_type": "code",
   "execution_count": null,
   "id": "d09bf6c4",
   "metadata": {},
   "outputs": [],
   "source": [
    "FileName=\"ChatGPT\""
   ]
  },
  {
   "cell_type": "code",
   "execution_count": null,
   "id": "3153e558",
   "metadata": {},
   "outputs": [],
   "source": [
    "# load by filenames\n",
    "\n",
    "sample=\"M\"\n",
    "\n",
    "filenames=['2023-08-10_NYtimes_genetherapy.json',\n",
    "        '2023-08-10_NYtimes_internettelephony.json',\n",
    "        '2023-08-10_NYtimes_superconductivity.json',\n",
    "        '2023-09-04_NYtimes_selfdrivingcar.json',\n",
    "        '2023-08-10_NYtimes_voiceoverIP.json',\n",
    "        \"22-05-24_NYtimes_nanotechnology.json\",\n",
    "        \"2023-09-04_NYtimes_PokémonGo.json\",\n",
    "        '2023-09-04_NYtimes_3dprinting.json',\n",
    "        '2023-09-04_NYtimes_spacetourism.json',\n",
    "        \"2023-09-04_NYtimes_ChatGPT.json\",\n",
    "        \"2023-09-04_NYtimes_metaverse.json\",\n",
    "        '2023-09-04_NYtimes_bitcoin.json'\n",
    "          ]\n",
    "\n",
    "comp=myL.load_filenames(filenames,sample=sample)\n",
    "\n",
    "comp[\"VoIP & internet-tel.\"]=comp[\"voiceoverIP\"]+comp[\"internettelephony\"]\n",
    "comp.drop(columns=[\"voiceoverIP\",\"internettelephony\"], inplace=True)\n",
    "\n",
    "comp[comp.index.year>1980].plot(figsize=(14,4), title=f\"New York Times Publications per {sample}\")\n",
    "plt.savefig(myL.Heute()+FileName+f'hist_{sample}.pdf')"
   ]
  },
  {
   "cell_type": "code",
   "execution_count": null,
   "id": "5b80e44b",
   "metadata": {},
   "outputs": [],
   "source": [
    "comp.sum().sort_values().plot.barh(title=\"NYtimes articles\", figsize=(4, 3))\n",
    "plt.tight_layout(pad=1.28, h_pad=None, w_pad=None, rect=None)\n",
    "plt.savefig(myL.Heute()+FileName+'barH2.pdf')"
   ]
  },
  {
   "cell_type": "code",
   "execution_count": null,
   "id": "fb01e0b6",
   "metadata": {},
   "outputs": [],
   "source": [
    "# reduced data set.\n",
    "\n",
    "comp3=comp[[\"metaverse\",\"bitcoin\",\"ChatGPT\"]]\n",
    "comp3[(comp3.index.year>2020) & (comp3.index<\"2023-09-01\")].plot(figsize=(4,4), title=f\"New York Times Publications - by {sample}\")\n",
    "\n",
    "plt.tight_layout(pad=1.08, h_pad=None, w_pad=None, rect=None)\n",
    "plt.savefig(myL.Heute()+FileName+f'hist_{sample}_small.pdf')"
   ]
  },
  {
   "cell_type": "code",
   "execution_count": null,
   "id": "a0ac4b6c",
   "metadata": {},
   "outputs": [],
   "source": [
    "# relativize & highlight one\n",
    "\n",
    "highlight=\"metaverse\"\n",
    "begin=1980\n",
    "\n",
    "comp2=comp.apply(myL.normalize)\n",
    "comp2.drop(columns=[highlight])[comp2.index.year>1980].plot(legend=True,figsize=(14, 5),style=\"--\", alpha=0.6)\n",
    "comp2[highlight][comp2.index.year>begin].plot(legend=True,figsize=(14, 5),lw=4, \n",
    "                                              title=f\"New York Times Publications by {sample}, normalized with focus on {highlight}\")\n",
    "\n",
    "plt.tight_layout(pad=1.08, h_pad=None, w_pad=None, rect=None)\n",
    "plt.savefig(myL.Heute()+FileName+f'hist_normalized_{sample}_focus_{highlight}.pdf')\n"
   ]
  },
  {
   "cell_type": "markdown",
   "id": "3b0cfa12",
   "metadata": {},
   "source": [
    "# Pre-/after-Peak"
   ]
  },
  {
   "cell_type": "code",
   "execution_count": null,
   "id": "861693e0",
   "metadata": {},
   "outputs": [],
   "source": [
    "Timespots=[\"2000\",\"2006\",\"2010\"]\n",
    "\n",
    "def BeforeAfter(df,Timespots):\n",
    "    A=df.loc[(df.pub_date > Timespots[0]) & (df.pub_date <= Timespots[1])]\n",
    "    B=df.loc[(df.pub_date > Timespots[1]) & (df.pub_date <= Timespots[2])]\n",
    "    return A,B\n",
    "\n",
    "A,B=BeforeAfter(df_VoIP,Timespots)\n"
   ]
  }
 ],
 "metadata": {
  "kernelspec": {
   "display_name": "Python 3 (ipykernel)",
   "language": "python",
   "name": "python3"
  },
  "language_info": {
   "codemirror_mode": {
    "name": "ipython",
    "version": 3
   },
   "file_extension": ".py",
   "mimetype": "text/x-python",
   "name": "python",
   "nbconvert_exporter": "python",
   "pygments_lexer": "ipython3",
   "version": "3.9.7"
  }
 },
 "nbformat": 4,
 "nbformat_minor": 5
}
