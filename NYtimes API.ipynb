{
 "cells": [
  {
   "cell_type": "code",
   "execution_count": 1,
   "id": "afeb381e",
   "metadata": {},
   "outputs": [],
   "source": [
    "import yaml\n",
    "import pandas as pd\n",
    "import json\n",
    "import matplotlib.pyplot as plt\n",
    "import datetime as dt\n",
    "\n",
    "from pynytimes import NYTAPI\n",
    "\n",
    "\n",
    "Heute=dt.datetime.now().strftime('%y-%m-%d')\n",
    "\n",
    "\n",
    "with open(\"2022-05-24_NYtimes_key.yaml\") as file:\n",
    "    keys = yaml.load(file, Loader=yaml.FullLoader)\n",
    "    \n",
    "key=keys[\"NYtimes\"]['key']\n",
    "nyt = NYTAPI(key, parse_dates=True)\n",
    "\n",
    "\n",
    "\n",
    "def writeFile(filename, data):\n",
    "    def defaultconverter(o):\n",
    "        if isinstance(o, dt.datetime):\n",
    "            return o.__str__()\n",
    "\n",
    "    with open(filename+\".json\", 'w') as fp:\n",
    "        json.dump(data,fp, default = defaultconverter)\n",
    "    "
   ]
  },
  {
   "cell_type": "markdown",
   "id": "6bd3cec5",
   "metadata": {},
   "source": [
    "# Run API"
   ]
  },
  {
   "cell_type": "code",
   "execution_count": 40,
   "id": "e547051a",
   "metadata": {},
   "outputs": [],
   "source": [
    "def runSerach(SuchName):\n",
    "    articles = nyt.article_search(\n",
    "        query =SuchName.strip(),\n",
    "        results = 500, ### For testing only 2 or so\n",
    "        dates = {\n",
    "            \"begin\": dt.datetime(2020, 1, 1),\n",
    "            \"end\": dt.datetime(2023, 5, 5)\n",
    "        },\n",
    "        options = {\n",
    "            \"sort\": \"newest\", ## or oldest\n",
    "            \"sources\": [\n",
    "                \"New York Times\"\n",
    "                #\"AP\",\n",
    "                #\"Reuters\",\n",
    "                #\"International Herald Tribune\"\n",
    "            ]\n",
    "        }\n",
    "    )\n",
    "    \n",
    "    SuchName = ''.join(filter(str.isalnum, SuchName))\n",
    "    filename=Heute+\"_NYtimes_\"+SuchName\n",
    "    \n",
    "    print(SuchName,len(articles))\n",
    "    \n",
    "    writeFile(filename,articles)\n",
    "    #return pd.DataFrame(articles)\n",
    "\n"
   ]
  },
  {
   "cell_type": "code",
   "execution_count": 9,
   "id": "15ccae80",
   "metadata": {},
   "outputs": [
    {
     "name": "stdout",
     "output_type": "stream",
     "text": [
      "ChatGPT\n"
     ]
    },
    {
     "data": {
      "text/plain": [
       "['\"3d printing\"',\n",
       " '\"Voice over IP\"',\n",
       " '\"Internet Telephony\"',\n",
       " '\"virtual reality\"',\n",
       " '\"gene therapy\"',\n",
       " '\"3d printing\"',\n",
       " 'superconductivity',\n",
       " 'microalgae',\n",
       " 'nanotechnology',\n",
       " 'nano*',\n",
       " 'Nanoparticle encapsulation',\n",
       " 'Smart City',\n",
       " 'ChatGPT']"
      ]
     },
     "execution_count": 9,
     "metadata": {},
     "output_type": "execute_result"
    }
   ],
   "source": [
    "### This strip thing is necessary for some terms\n",
    "\n",
    "\n",
    "SuchListe=[\"\"\" \"3d printing\" \"\"\".strip(),\"\"\" \"Voice over IP\" \"\"\".strip(),\"\"\" \"Internet Telephony\" \"\"\".strip(),\n",
    "           \"\"\" \"virtual reality\" \"\"\".strip(),\"\"\" \"gene therapy\" \"\"\".strip(),\n",
    "           \"\"\" \"3d printing\" \"\"\".strip(),\"superconductivity\", \"microalgae\",\n",
    "           \"nanotechnology\",\"nano*\", \"Nanoparticle encapsulation\",\"Smart City\", \"ChatGPT\"]\n",
    "\n",
    "\n",
    "print(SuchListe[-1])\n",
    "\n",
    "SuchListe"
   ]
  },
  {
   "cell_type": "code",
   "execution_count": 41,
   "id": "40ec9072",
   "metadata": {},
   "outputs": [
    {
     "name": "stderr",
     "output_type": "stream",
     "text": [
      "C:\\Users\\mr\\miniconda3\\envs\\PyMax\\lib\\site-packages\\pynytimes\\helpers\\article_search.py:16: UserWarning: Asking for a lot of results, because of rate limits it can take a while.\n",
      "  warnings.warn(\n"
     ]
    },
    {
     "name": "stdout",
     "output_type": "stream",
     "text": [
      "ChatGPT 324\n"
     ]
    }
   ],
   "source": [
    "#run only one tech\n",
    "runSerach(SuchListe[-1])"
   ]
  },
  {
   "cell_type": "code",
   "execution_count": 42,
   "id": "3d938774",
   "metadata": {},
   "outputs": [],
   "source": [
    "#run the entire list --> This takes a lot of time...\n",
    "\n",
    "#for SuchName in SuchListe:\n",
    "#    runSerach(SuchName)"
   ]
  },
  {
   "cell_type": "code",
   "execution_count": 48,
   "id": "0dd4afab",
   "metadata": {},
   "outputs": [
    {
     "data": {
      "text/plain": [
       "<AxesSubplot: title={'center': 'ChatGPT'}, xlabel='pub_date'>"
      ]
     },
     "execution_count": 48,
     "metadata": {},
     "output_type": "execute_result"
    },
    {
     "data": {
      "image/png": "[encoded data removed]",
      "text/plain": [
       "<Figure size 1008x288 with 1 Axes>"
      ]
     },
     "metadata": {
      "needs_background": "light"
     },
     "output_type": "display_data"
    }
   ],
   "source": [
    "sample=\"7D\"\n",
    "filename=Heute+\"_NYTimes_\"+SuchListe[-1]+\".json\"\n",
    "df=pd.read_json(filename, convert_dates=['pub_date']).drop_duplicates(\"web_url\",keep=\"first\")\n",
    "example=df.set_index(\"pub_date\").resample(sample).size().rename(SuchListe[-1])\n",
    "example.plot(figsize=(14,4),title=SuchListe[-1])"
   ]
  }
 ],
 "metadata": {
  "kernelspec": {
   "display_name": "Python 3 (ipykernel)",
   "language": "python",
   "name": "python3"
  },
  "language_info": {
   "codemirror_mode": {
    "name": "ipython",
    "version": 3
   },
   "file_extension": ".py",
   "mimetype": "text/x-python",
   "name": "python",
   "nbconvert_exporter": "python",
   "pygments_lexer": "ipython3",
   "version": "3.9.7"
  }
 },
 "nbformat": 4,
 "nbformat_minor": 5
}
